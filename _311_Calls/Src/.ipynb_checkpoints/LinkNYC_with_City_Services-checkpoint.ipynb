{
 "cells": [
  {
   "cell_type": "markdown",
   "metadata": {},
   "source": [
    "# LinkNYC changes the 311 service requests\n",
    "\n",
    "- Get LinkNYC kiosks information\n",
    "    - Select 311 data time range\n",
    "- Get 311 data\n",
    "- Get ACS census data\n",
    "    - Aggregate LinkNYC and 311 data into census block\n",
    "- Overall changes analysis\n",
    "    - WithKiosk and WithoutKiosk area\n",
    "    - Hypothesis Testing\n",
    "    - Conclusion\n",
    "- Detail changes analysis (the total 311 complaint count)\n",
    "    - 311 service request before and after LinkNYC built\n",
    "    - Hypothesis Testing\n",
    "    - Conclusion\n",
    "- Detail changes analysis (the sidewalk noise 311 complaint count)\n",
    "    - 311 service request about sidewalk noise before and after LinkNYC built\n",
    "    - Hypothesis Testing\n",
    "    - Conclusion"
   ]
  },
  {
   "cell_type": "code",
   "execution_count": 13,
   "metadata": {},
   "outputs": [
    {
     "name": "stdout",
     "output_type": "stream",
     "text": [
      "Populating the interactive namespace from numpy and matplotlib\n"
     ]
    }
   ],
   "source": [
    "#import libraries\n",
    "import numpy as np\n",
    "import pandas as pd\n",
    "import pylab as pl\n",
    "import geopandas as gpd\n",
    "import os\n",
    "import datetime as dt\n",
    "from matplotlib import gridspec\n",
    "import fiona\n",
    "from fiona.crs import from_epsg\n",
    "import shapely\n",
    "try:\n",
    "    from StringIO import StringIO\n",
    "except ImportError:\n",
    "    from io import StringIO\n",
    "\n",
    "#declare parameters\n",
    "pd.set_option('display.max_columns', 500)\n",
    "%pylab inline\n",
    "zip_code_shpfile = os.environ['ZIP_CODE_SHPFILE']\n",
    "linknyc_locations = os.environ['LINKNYC_LOCS']\n",
    "policymap_broadband = os.environ['POLICYMAP_BROADBAND']\n",
    "data_monthly_linknyc = os.environ['MONTHLY_LINKNYC']\n",
    "socrata_key = os.environ['SOCRATA_KEY']\n",
    "census_blocks = os.environ['CENSUS_BLOCKS']"
   ]
  },
  {
   "cell_type": "markdown",
   "metadata": {},
   "source": [
    "### Get LinkNYC kiosks information"
   ]
  },
  {
   "cell_type": "markdown",
   "metadata": {},
   "source": [
    "Get the linkNYC location data with lon and lat."
   ]
  },
  {
   "cell_type": "code",
   "execution_count": 15,
   "metadata": {},
   "outputs": [],
   "source": [
    "linkLocation = pd.read_csv(linknyc_locations)"
   ]
  },
  {
   "cell_type": "code",
   "execution_count": 16,
   "metadata": {
    "scrolled": false
   },
   "outputs": [
    {
     "data": {
      "text/html": [
       "<div>\n",
       "<table border=\"1\" class=\"dataframe\">\n",
       "  <thead>\n",
       "    <tr style=\"text-align: right;\">\n",
       "      <th></th>\n",
       "      <th>CB Link ID</th>\n",
       "      <th>Borough</th>\n",
       "      <th>Community Board</th>\n",
       "      <th>Council District</th>\n",
       "      <th>Latitude</th>\n",
       "      <th>Longitude</th>\n",
       "      <th>Project Status</th>\n",
       "      <th>Smallest PPT</th>\n",
       "      <th>Street Address</th>\n",
       "      <th>Postcode</th>\n",
       "      <th>Link Site ID</th>\n",
       "      <th>Link Smoke Tested and Activated (A)</th>\n",
       "      <th>Link Installation (A)</th>\n",
       "      <th>Neighborhood Tabulation Area (NTA)</th>\n",
       "      <th>Building Identification Number (BIN)</th>\n",
       "      <th>Borough-Block-Lot (BBL)</th>\n",
       "      <th>Census Tract (CT)</th>\n",
       "      <th>Cross Street 1</th>\n",
       "      <th>Cross Street 2</th>\n",
       "      <th>IxN Corner</th>\n",
       "      <th>GF Permit Application ID</th>\n",
       "      <th>Location</th>\n",
       "    </tr>\n",
       "  </thead>\n",
       "  <tbody>\n",
       "    <tr>\n",
       "      <th>0</th>\n",
       "      <td>LINK-019315</td>\n",
       "      <td>Bronx</td>\n",
       "      <td>205</td>\n",
       "      <td>14</td>\n",
       "      <td>40.850173</td>\n",
       "      <td>-73.910282</td>\n",
       "      <td>Live</td>\n",
       "      <td>146097</td>\n",
       "      <td>1 EAST 177 STREET</td>\n",
       "      <td>10453</td>\n",
       "      <td>bx-05-146097</td>\n",
       "      <td>07/13/2018</td>\n",
       "      <td>06/20/2018</td>\n",
       "      <td>Mount Hope</td>\n",
       "      <td>2008247</td>\n",
       "      <td>2028530001</td>\n",
       "      <td>2023301</td>\n",
       "      <td>JEROME AVENUE</td>\n",
       "      <td>WALTON AVENUE</td>\n",
       "      <td>SE</td>\n",
       "      <td>82392.0</td>\n",
       "      <td>(40.850173, -73.91028173)</td>\n",
       "    </tr>\n",
       "    <tr>\n",
       "      <th>1</th>\n",
       "      <td>LINK-008842</td>\n",
       "      <td>Manhattan</td>\n",
       "      <td>105</td>\n",
       "      <td>4</td>\n",
       "      <td>40.747114</td>\n",
       "      <td>-73.985245</td>\n",
       "      <td>Live</td>\n",
       "      <td>121611</td>\n",
       "      <td>1 EAST 32 STREET</td>\n",
       "      <td>10016</td>\n",
       "      <td>mn-05-121611</td>\n",
       "      <td>12/09/2016</td>\n",
       "      <td>10/01/2016</td>\n",
       "      <td>Midtown-Midtown South</td>\n",
       "      <td>1017006</td>\n",
       "      <td>1008620001</td>\n",
       "      <td>1007400</td>\n",
       "      <td>5 AVENUE</td>\n",
       "      <td>MADISON AVENUE</td>\n",
       "      <td>NE</td>\n",
       "      <td>NaN</td>\n",
       "      <td>(40.74711441, -73.98524463)</td>\n",
       "    </tr>\n",
       "    <tr>\n",
       "      <th>2</th>\n",
       "      <td>LINK-008843</td>\n",
       "      <td>Manhattan</td>\n",
       "      <td>105</td>\n",
       "      <td>4</td>\n",
       "      <td>40.747737</td>\n",
       "      <td>-73.984833</td>\n",
       "      <td>Live</td>\n",
       "      <td>121613</td>\n",
       "      <td>1 EAST 33 STREET</td>\n",
       "      <td>10016</td>\n",
       "      <td>mn-05-121613</td>\n",
       "      <td>03/23/2017</td>\n",
       "      <td>01/29/2017</td>\n",
       "      <td>Midtown-Midtown South</td>\n",
       "      <td>1017076</td>\n",
       "      <td>1008630006</td>\n",
       "      <td>1007400</td>\n",
       "      <td>5 AVENUE</td>\n",
       "      <td>MADISON AVENUE</td>\n",
       "      <td>NE</td>\n",
       "      <td>NaN</td>\n",
       "      <td>(40.74773664, -73.98483344)</td>\n",
       "    </tr>\n",
       "    <tr>\n",
       "      <th>3</th>\n",
       "      <td>LINK-000186</td>\n",
       "      <td>Manhattan</td>\n",
       "      <td>105</td>\n",
       "      <td>2</td>\n",
       "      <td>40.734148</td>\n",
       "      <td>-73.988740</td>\n",
       "      <td>Live</td>\n",
       "      <td>134620</td>\n",
       "      <td>1 IRVING PLACE</td>\n",
       "      <td>10003</td>\n",
       "      <td>mn-05-134620</td>\n",
       "      <td>07/19/2017</td>\n",
       "      <td>06/11/2017</td>\n",
       "      <td>Gramercy</td>\n",
       "      <td>1083247</td>\n",
       "      <td>1008707501</td>\n",
       "      <td>1005000</td>\n",
       "      <td>EAST 14 STREET</td>\n",
       "      <td>EAST 15 STREET</td>\n",
       "      <td>NW</td>\n",
       "      <td>NaN</td>\n",
       "      <td>(40.73414765, -73.98873983)</td>\n",
       "    </tr>\n",
       "    <tr>\n",
       "      <th>4</th>\n",
       "      <td>LINK-010750</td>\n",
       "      <td>Manhattan</td>\n",
       "      <td>102</td>\n",
       "      <td>3</td>\n",
       "      <td>40.730258</td>\n",
       "      <td>-74.006629</td>\n",
       "      <td>Live</td>\n",
       "      <td>123600</td>\n",
       "      <td>1 ST. LUKE'S PLACE</td>\n",
       "      <td>10014</td>\n",
       "      <td>mn-02-123600</td>\n",
       "      <td>01/26/2017</td>\n",
       "      <td>11/13/2016</td>\n",
       "      <td>West Village</td>\n",
       "      <td>1009773</td>\n",
       "      <td>1005830001</td>\n",
       "      <td>1006700</td>\n",
       "      <td>HUDSON STREET</td>\n",
       "      <td>7 AVENUE</td>\n",
       "      <td>NE</td>\n",
       "      <td>NaN</td>\n",
       "      <td>(40.73025769, -74.00662855)</td>\n",
       "    </tr>\n",
       "  </tbody>\n",
       "</table>\n",
       "</div>"
      ],
      "text/plain": [
       "    CB Link ID    Borough  Community Board  Council District   Latitude  \\\n",
       "0  LINK-019315      Bronx              205                14  40.850173   \n",
       "1  LINK-008842  Manhattan              105                 4  40.747114   \n",
       "2  LINK-008843  Manhattan              105                 4  40.747737   \n",
       "3  LINK-000186  Manhattan              105                 2  40.734148   \n",
       "4  LINK-010750  Manhattan              102                 3  40.730258   \n",
       "\n",
       "   Longitude Project Status Smallest PPT      Street Address  Postcode  \\\n",
       "0 -73.910282           Live       146097   1 EAST 177 STREET     10453   \n",
       "1 -73.985245           Live       121611    1 EAST 32 STREET     10016   \n",
       "2 -73.984833           Live       121613    1 EAST 33 STREET     10016   \n",
       "3 -73.988740           Live       134620      1 IRVING PLACE     10003   \n",
       "4 -74.006629           Live       123600  1 ST. LUKE'S PLACE     10014   \n",
       "\n",
       "   Link Site ID Link Smoke Tested and Activated (A) Link Installation (A)  \\\n",
       "0  bx-05-146097                          07/13/2018            06/20/2018   \n",
       "1  mn-05-121611                          12/09/2016            10/01/2016   \n",
       "2  mn-05-121613                          03/23/2017            01/29/2017   \n",
       "3  mn-05-134620                          07/19/2017            06/11/2017   \n",
       "4  mn-02-123600                          01/26/2017            11/13/2016   \n",
       "\n",
       "  Neighborhood Tabulation Area (NTA)  Building Identification Number (BIN)  \\\n",
       "0                         Mount Hope                               2008247   \n",
       "1              Midtown-Midtown South                               1017006   \n",
       "2              Midtown-Midtown South                               1017076   \n",
       "3                           Gramercy                               1083247   \n",
       "4                       West Village                               1009773   \n",
       "\n",
       "   Borough-Block-Lot (BBL)  Census Tract (CT)  Cross Street 1  Cross Street 2  \\\n",
       "0               2028530001            2023301   JEROME AVENUE   WALTON AVENUE   \n",
       "1               1008620001            1007400        5 AVENUE  MADISON AVENUE   \n",
       "2               1008630006            1007400        5 AVENUE  MADISON AVENUE   \n",
       "3               1008707501            1005000  EAST 14 STREET  EAST 15 STREET   \n",
       "4               1005830001            1006700   HUDSON STREET        7 AVENUE   \n",
       "\n",
       "  IxN Corner  GF Permit Application ID                     Location  \n",
       "0         SE                   82392.0    (40.850173, -73.91028173)  \n",
       "1         NE                       NaN  (40.74711441, -73.98524463)  \n",
       "2         NE                       NaN  (40.74773664, -73.98483344)  \n",
       "3         NW                       NaN  (40.73414765, -73.98873983)  \n",
       "4         NE                       NaN  (40.73025769, -74.00662855)  "
      ]
     },
     "execution_count": 16,
     "metadata": {},
     "output_type": "execute_result"
    }
   ],
   "source": [
    "linkLocation.head()"
   ]
  },
  {
   "cell_type": "code",
   "execution_count": 17,
   "metadata": {},
   "outputs": [
    {
     "data": {
      "text/plain": [
       "(1868, 22)"
      ]
     },
     "execution_count": 17,
     "metadata": {},
     "output_type": "execute_result"
    }
   ],
   "source": [
    "linkLocation.shape"
   ]
  },
  {
   "cell_type": "markdown",
   "metadata": {},
   "source": [
    "Select 311 data time range"
   ]
  },
  {
   "cell_type": "code",
   "execution_count": 18,
   "metadata": {},
   "outputs": [],
   "source": [
    "def minmax(val_list):\n",
    "    min_val = min(val_list)\n",
    "    max_val = max(val_list)\n",
    "\n",
    "    return (min_val, max_val)"
   ]
  },
  {
   "cell_type": "code",
   "execution_count": 19,
   "metadata": {},
   "outputs": [],
   "source": [
    "linkLocation['active_date'] = pd.to_datetime(linkLocation['Link Smoke Tested and Activated (A)'])"
   ]
  },
  {
   "cell_type": "code",
   "execution_count": 20,
   "metadata": {},
   "outputs": [
    {
     "data": {
      "text/plain": [
       "(Timestamp('2016-01-19 00:00:00'), Timestamp('2019-03-28 00:00:00'))"
      ]
     },
     "execution_count": 20,
     "metadata": {},
     "output_type": "execute_result"
    }
   ],
   "source": [
    "minmax(linkLocation.active_date)"
   ]
  },
  {
   "cell_type": "markdown",
   "metadata": {},
   "source": [
    "To wipe off the impact of season, we decide to use 2015.04 and 2015.05 311 data as the data before kiosk built, and use 2019.04 and 2019.05 311 data as the data after kiosk built."
   ]
  },
  {
   "cell_type": "markdown",
   "metadata": {},
   "source": [
    "## Get 311 data"
   ]
  },
  {
   "cell_type": "code",
   "execution_count": 21,
   "metadata": {},
   "outputs": [],
   "source": [
    "def get311data(key, start_time, end_time):\n",
    "    client = Socrata(\"data.cityofnewyork.us\", key)\n",
    "    results = client.get(\"fhrw-4uyv\", where = \"created_date BETWEEN \" + start_time + \" AND \" +  end_time, limit = 1000000000)\n",
    "    \n",
    "    return(pd.DataFrame.from_records(results))"
   ]
  },
  {
   "cell_type": "code",
   "execution_count": null,
   "metadata": {},
   "outputs": [],
   "source": [
    "before = get311data(socrata_key,  \"'2015-04-01T00:00:00'\", \"'2015-05-31T00:00:00'\")"
   ]
  },
  {
   "cell_type": "code",
   "execution_count": null,
   "metadata": {},
   "outputs": [],
   "source": [
    "after = get311data(socrata_key,  \"'2019-04-01T00:00:00'\", \"'2019-05-31T00:00:00'\")"
   ]
  },
  {
   "cell_type": "code",
   "execution_count": null,
   "metadata": {},
   "outputs": [],
   "source": [
    "before = before[-before['location'].isna()].reset_index(drop = True)"
   ]
  },
  {
   "cell_type": "code",
   "execution_count": 22,
   "metadata": {},
   "outputs": [
    {
     "name": "stderr",
     "output_type": "stream",
     "text": [
      "/usr/local/Anaconda3-5.0.0-Linux-x86_64/envs/PUI2016_Python3/lib/python3.5/site-packages/IPython/core/interactiveshell.py:2717: DtypeWarning: Columns (38) have mixed types. Specify dtype option on import or set low_memory=False.\n",
      "  interactivity=interactivity, compiler=compiler, result=result)\n"
     ]
    }
   ],
   "source": [
    "before = pd.read_csv(\"before.csv\")"
   ]
  },
  {
   "cell_type": "code",
   "execution_count": 23,
   "metadata": {},
   "outputs": [
    {
     "data": {
      "text/html": [
       "<div>\n",
       "<table border=\"1\" class=\"dataframe\">\n",
       "  <thead>\n",
       "    <tr style=\"text-align: right;\">\n",
       "      <th></th>\n",
       "      <th>address_type</th>\n",
       "      <th>agency</th>\n",
       "      <th>agency_name</th>\n",
       "      <th>bbl</th>\n",
       "      <th>borough</th>\n",
       "      <th>bridge_highway_direction</th>\n",
       "      <th>bridge_highway_name</th>\n",
       "      <th>bridge_highway_segment</th>\n",
       "      <th>city</th>\n",
       "      <th>closed_date</th>\n",
       "      <th>community_board</th>\n",
       "      <th>complaint_type</th>\n",
       "      <th>created_date</th>\n",
       "      <th>cross_street_1</th>\n",
       "      <th>cross_street_2</th>\n",
       "      <th>descriptor</th>\n",
       "      <th>due_date</th>\n",
       "      <th>facility_type</th>\n",
       "      <th>incident_address</th>\n",
       "      <th>incident_zip</th>\n",
       "      <th>intersection_street_1</th>\n",
       "      <th>intersection_street_2</th>\n",
       "      <th>landmark</th>\n",
       "      <th>latitude</th>\n",
       "      <th>location</th>\n",
       "      <th>location_type</th>\n",
       "      <th>longitude</th>\n",
       "      <th>open_data_channel_type</th>\n",
       "      <th>park_borough</th>\n",
       "      <th>park_facility_name</th>\n",
       "      <th>resolution_action_updated_date</th>\n",
       "      <th>resolution_description</th>\n",
       "      <th>road_ramp</th>\n",
       "      <th>status</th>\n",
       "      <th>street_name</th>\n",
       "      <th>taxi_company_borough</th>\n",
       "      <th>taxi_pick_up_location</th>\n",
       "      <th>unique_key</th>\n",
       "      <th>vehicle_type</th>\n",
       "      <th>x_coordinate_state_plane</th>\n",
       "      <th>y_coordinate_state_plane</th>\n",
       "    </tr>\n",
       "  </thead>\n",
       "  <tbody>\n",
       "    <tr>\n",
       "      <th>0</th>\n",
       "      <td>ADDRESS</td>\n",
       "      <td>HPD</td>\n",
       "      <td>Department of Housing Preservation and Develop...</td>\n",
       "      <td>3.060090e+09</td>\n",
       "      <td>BROOKLYN</td>\n",
       "      <td>NaN</td>\n",
       "      <td>NaN</td>\n",
       "      <td>NaN</td>\n",
       "      <td>BROOKLYN</td>\n",
       "      <td>2015-05-19T00:00:00.000</td>\n",
       "      <td>10 BROOKLYN</td>\n",
       "      <td>UNSANITARY CONDITION</td>\n",
       "      <td>2015-04-01T00:00:00.000</td>\n",
       "      <td>NaN</td>\n",
       "      <td>NaN</td>\n",
       "      <td>GARBAGE/RECYCLING STORAGE</td>\n",
       "      <td>NaN</td>\n",
       "      <td>NaN</td>\n",
       "      <td>552 82 STREET</td>\n",
       "      <td>11209.0</td>\n",
       "      <td>NaN</td>\n",
       "      <td>NaN</td>\n",
       "      <td>NaN</td>\n",
       "      <td>40.623571</td>\n",
       "      <td>{'type': 'Point', 'coordinates': [-74.02352676...</td>\n",
       "      <td>RESIDENTIAL BUILDING</td>\n",
       "      <td>-74.023527</td>\n",
       "      <td>ONLINE</td>\n",
       "      <td>BROOKLYN</td>\n",
       "      <td>Unspecified</td>\n",
       "      <td>2015-05-19T00:00:00.000</td>\n",
       "      <td>The Department of Housing Preservation and Dev...</td>\n",
       "      <td>NaN</td>\n",
       "      <td>Closed</td>\n",
       "      <td>82 STREET</td>\n",
       "      <td>NaN</td>\n",
       "      <td>NaN</td>\n",
       "      <td>30298583</td>\n",
       "      <td>NaN</td>\n",
       "      <td>977719</td>\n",
       "      <td>166461</td>\n",
       "    </tr>\n",
       "    <tr>\n",
       "      <th>1</th>\n",
       "      <td>ADDRESS</td>\n",
       "      <td>HPD</td>\n",
       "      <td>Department of Housing Preservation and Develop...</td>\n",
       "      <td>2.027240e+09</td>\n",
       "      <td>BRONX</td>\n",
       "      <td>NaN</td>\n",
       "      <td>NaN</td>\n",
       "      <td>NaN</td>\n",
       "      <td>BRONX</td>\n",
       "      <td>2015-04-03T00:00:00.000</td>\n",
       "      <td>02 BRONX</td>\n",
       "      <td>HEAT/HOT WATER</td>\n",
       "      <td>2015-04-01T00:00:00.000</td>\n",
       "      <td>NaN</td>\n",
       "      <td>NaN</td>\n",
       "      <td>APARTMENT ONLY</td>\n",
       "      <td>NaN</td>\n",
       "      <td>NaN</td>\n",
       "      <td>975 SIMPSON STREET</td>\n",
       "      <td>10459.0</td>\n",
       "      <td>NaN</td>\n",
       "      <td>NaN</td>\n",
       "      <td>NaN</td>\n",
       "      <td>40.821519</td>\n",
       "      <td>{'type': 'Point', 'coordinates': [-73.89286979...</td>\n",
       "      <td>RESIDENTIAL BUILDING</td>\n",
       "      <td>-73.892870</td>\n",
       "      <td>PHONE</td>\n",
       "      <td>BRONX</td>\n",
       "      <td>Unspecified</td>\n",
       "      <td>2015-04-03T00:00:00.000</td>\n",
       "      <td>The Department of Housing Preservation and Dev...</td>\n",
       "      <td>NaN</td>\n",
       "      <td>Closed</td>\n",
       "      <td>SIMPSON STREET</td>\n",
       "      <td>NaN</td>\n",
       "      <td>NaN</td>\n",
       "      <td>30299044</td>\n",
       "      <td>NaN</td>\n",
       "      <td>1013901</td>\n",
       "      <td>238597</td>\n",
       "    </tr>\n",
       "    <tr>\n",
       "      <th>2</th>\n",
       "      <td>ADDRESS</td>\n",
       "      <td>HPD</td>\n",
       "      <td>Department of Housing Preservation and Develop...</td>\n",
       "      <td>4.050438e+09</td>\n",
       "      <td>QUEENS</td>\n",
       "      <td>NaN</td>\n",
       "      <td>NaN</td>\n",
       "      <td>NaN</td>\n",
       "      <td>Flushing</td>\n",
       "      <td>2015-04-03T00:00:00.000</td>\n",
       "      <td>07 QUEENS</td>\n",
       "      <td>HEAT/HOT WATER</td>\n",
       "      <td>2015-04-01T00:00:00.000</td>\n",
       "      <td>NaN</td>\n",
       "      <td>NaN</td>\n",
       "      <td>ENTIRE BUILDING</td>\n",
       "      <td>NaN</td>\n",
       "      <td>NaN</td>\n",
       "      <td>136-05 SANFORD AVENUE</td>\n",
       "      <td>11355.0</td>\n",
       "      <td>NaN</td>\n",
       "      <td>NaN</td>\n",
       "      <td>NaN</td>\n",
       "      <td>40.756751</td>\n",
       "      <td>{'type': 'Point', 'coordinates': [-73.82854025...</td>\n",
       "      <td>RESIDENTIAL BUILDING</td>\n",
       "      <td>-73.828540</td>\n",
       "      <td>ONLINE</td>\n",
       "      <td>QUEENS</td>\n",
       "      <td>Unspecified</td>\n",
       "      <td>2015-04-03T00:00:00.000</td>\n",
       "      <td>The complaint you filed is a duplicate of a co...</td>\n",
       "      <td>NaN</td>\n",
       "      <td>Closed</td>\n",
       "      <td>SANFORD AVENUE</td>\n",
       "      <td>NaN</td>\n",
       "      <td>NaN</td>\n",
       "      <td>30299153</td>\n",
       "      <td>NaN</td>\n",
       "      <td>1031752</td>\n",
       "      <td>215028</td>\n",
       "    </tr>\n",
       "    <tr>\n",
       "      <th>3</th>\n",
       "      <td>ADDRESS</td>\n",
       "      <td>DOHMH</td>\n",
       "      <td>Department of Health and Mental Hygiene</td>\n",
       "      <td>1.004120e+09</td>\n",
       "      <td>MANHATTAN</td>\n",
       "      <td>NaN</td>\n",
       "      <td>NaN</td>\n",
       "      <td>NaN</td>\n",
       "      <td>NEW YORK</td>\n",
       "      <td>2015-04-01T00:00:00.000</td>\n",
       "      <td>03 MANHATTAN</td>\n",
       "      <td>Rodent</td>\n",
       "      <td>2015-04-01T00:00:00.000</td>\n",
       "      <td>STANTON STREET</td>\n",
       "      <td>EAST HOUSTON STREET</td>\n",
       "      <td>Rat Sighting</td>\n",
       "      <td>2015-05-01T01:21:51.000</td>\n",
       "      <td>NaN</td>\n",
       "      <td>192 ORCHARD STREET</td>\n",
       "      <td>10002.0</td>\n",
       "      <td>NaN</td>\n",
       "      <td>NaN</td>\n",
       "      <td>NaN</td>\n",
       "      <td>40.722179</td>\n",
       "      <td>{'type': 'Point', 'coordinates': [-73.98813082...</td>\n",
       "      <td>Other (Explain Below)</td>\n",
       "      <td>-73.988131</td>\n",
       "      <td>PHONE</td>\n",
       "      <td>MANHATTAN</td>\n",
       "      <td>Unspecified</td>\n",
       "      <td>2015-04-01T01:28:07.000</td>\n",
       "      <td>The Department of Health and Mental Hygiene wi...</td>\n",
       "      <td>NaN</td>\n",
       "      <td>Closed</td>\n",
       "      <td>ORCHARD STREET</td>\n",
       "      <td>NaN</td>\n",
       "      <td>NaN</td>\n",
       "      <td>30299598</td>\n",
       "      <td>NaN</td>\n",
       "      <td>987540</td>\n",
       "      <td>202386</td>\n",
       "    </tr>\n",
       "    <tr>\n",
       "      <th>4</th>\n",
       "      <td>ADDRESS</td>\n",
       "      <td>HPD</td>\n",
       "      <td>Department of Housing Preservation and Develop...</td>\n",
       "      <td>1.021250e+09</td>\n",
       "      <td>MANHATTAN</td>\n",
       "      <td>NaN</td>\n",
       "      <td>NaN</td>\n",
       "      <td>NaN</td>\n",
       "      <td>NEW YORK</td>\n",
       "      <td>2015-04-12T00:00:00.000</td>\n",
       "      <td>12 MANHATTAN</td>\n",
       "      <td>UNSANITARY CONDITION</td>\n",
       "      <td>2015-04-01T00:00:00.000</td>\n",
       "      <td>NaN</td>\n",
       "      <td>NaN</td>\n",
       "      <td>PESTS</td>\n",
       "      <td>NaN</td>\n",
       "      <td>NaN</td>\n",
       "      <td>515 WEST  168 STREET</td>\n",
       "      <td>10032.0</td>\n",
       "      <td>NaN</td>\n",
       "      <td>NaN</td>\n",
       "      <td>NaN</td>\n",
       "      <td>40.840145</td>\n",
       "      <td>{'type': 'Point', 'coordinates': [-73.93754560...</td>\n",
       "      <td>RESIDENTIAL BUILDING</td>\n",
       "      <td>-73.937546</td>\n",
       "      <td>PHONE</td>\n",
       "      <td>MANHATTAN</td>\n",
       "      <td>Unspecified</td>\n",
       "      <td>2015-04-12T00:00:00.000</td>\n",
       "      <td>The Department of Housing Preservation and Dev...</td>\n",
       "      <td>NaN</td>\n",
       "      <td>Closed</td>\n",
       "      <td>WEST  168 STREET</td>\n",
       "      <td>NaN</td>\n",
       "      <td>NaN</td>\n",
       "      <td>30299711</td>\n",
       "      <td>NaN</td>\n",
       "      <td>1001531</td>\n",
       "      <td>245371</td>\n",
       "    </tr>\n",
       "  </tbody>\n",
       "</table>\n",
       "</div>"
      ],
      "text/plain": [
       "  address_type agency                                        agency_name  \\\n",
       "0      ADDRESS    HPD  Department of Housing Preservation and Develop...   \n",
       "1      ADDRESS    HPD  Department of Housing Preservation and Develop...   \n",
       "2      ADDRESS    HPD  Department of Housing Preservation and Develop...   \n",
       "3      ADDRESS  DOHMH            Department of Health and Mental Hygiene   \n",
       "4      ADDRESS    HPD  Department of Housing Preservation and Develop...   \n",
       "\n",
       "            bbl    borough bridge_highway_direction bridge_highway_name  \\\n",
       "0  3.060090e+09   BROOKLYN                      NaN                 NaN   \n",
       "1  2.027240e+09      BRONX                      NaN                 NaN   \n",
       "2  4.050438e+09     QUEENS                      NaN                 NaN   \n",
       "3  1.004120e+09  MANHATTAN                      NaN                 NaN   \n",
       "4  1.021250e+09  MANHATTAN                      NaN                 NaN   \n",
       "\n",
       "  bridge_highway_segment      city              closed_date community_board  \\\n",
       "0                    NaN  BROOKLYN  2015-05-19T00:00:00.000     10 BROOKLYN   \n",
       "1                    NaN     BRONX  2015-04-03T00:00:00.000        02 BRONX   \n",
       "2                    NaN  Flushing  2015-04-03T00:00:00.000       07 QUEENS   \n",
       "3                    NaN  NEW YORK  2015-04-01T00:00:00.000    03 MANHATTAN   \n",
       "4                    NaN  NEW YORK  2015-04-12T00:00:00.000    12 MANHATTAN   \n",
       "\n",
       "         complaint_type             created_date  cross_street_1  \\\n",
       "0  UNSANITARY CONDITION  2015-04-01T00:00:00.000             NaN   \n",
       "1        HEAT/HOT WATER  2015-04-01T00:00:00.000             NaN   \n",
       "2        HEAT/HOT WATER  2015-04-01T00:00:00.000             NaN   \n",
       "3                Rodent  2015-04-01T00:00:00.000  STANTON STREET   \n",
       "4  UNSANITARY CONDITION  2015-04-01T00:00:00.000             NaN   \n",
       "\n",
       "        cross_street_2                 descriptor                 due_date  \\\n",
       "0                  NaN  GARBAGE/RECYCLING STORAGE                      NaN   \n",
       "1                  NaN             APARTMENT ONLY                      NaN   \n",
       "2                  NaN            ENTIRE BUILDING                      NaN   \n",
       "3  EAST HOUSTON STREET               Rat Sighting  2015-05-01T01:21:51.000   \n",
       "4                  NaN                      PESTS                      NaN   \n",
       "\n",
       "  facility_type       incident_address  incident_zip intersection_street_1  \\\n",
       "0           NaN          552 82 STREET       11209.0                   NaN   \n",
       "1           NaN     975 SIMPSON STREET       10459.0                   NaN   \n",
       "2           NaN  136-05 SANFORD AVENUE       11355.0                   NaN   \n",
       "3           NaN     192 ORCHARD STREET       10002.0                   NaN   \n",
       "4           NaN   515 WEST  168 STREET       10032.0                   NaN   \n",
       "\n",
       "  intersection_street_2 landmark   latitude  \\\n",
       "0                   NaN      NaN  40.623571   \n",
       "1                   NaN      NaN  40.821519   \n",
       "2                   NaN      NaN  40.756751   \n",
       "3                   NaN      NaN  40.722179   \n",
       "4                   NaN      NaN  40.840145   \n",
       "\n",
       "                                            location          location_type  \\\n",
       "0  {'type': 'Point', 'coordinates': [-74.02352676...   RESIDENTIAL BUILDING   \n",
       "1  {'type': 'Point', 'coordinates': [-73.89286979...   RESIDENTIAL BUILDING   \n",
       "2  {'type': 'Point', 'coordinates': [-73.82854025...   RESIDENTIAL BUILDING   \n",
       "3  {'type': 'Point', 'coordinates': [-73.98813082...  Other (Explain Below)   \n",
       "4  {'type': 'Point', 'coordinates': [-73.93754560...   RESIDENTIAL BUILDING   \n",
       "\n",
       "   longitude open_data_channel_type park_borough park_facility_name  \\\n",
       "0 -74.023527                 ONLINE     BROOKLYN        Unspecified   \n",
       "1 -73.892870                  PHONE        BRONX        Unspecified   \n",
       "2 -73.828540                 ONLINE       QUEENS        Unspecified   \n",
       "3 -73.988131                  PHONE    MANHATTAN        Unspecified   \n",
       "4 -73.937546                  PHONE    MANHATTAN        Unspecified   \n",
       "\n",
       "  resolution_action_updated_date  \\\n",
       "0        2015-05-19T00:00:00.000   \n",
       "1        2015-04-03T00:00:00.000   \n",
       "2        2015-04-03T00:00:00.000   \n",
       "3        2015-04-01T01:28:07.000   \n",
       "4        2015-04-12T00:00:00.000   \n",
       "\n",
       "                              resolution_description road_ramp  status  \\\n",
       "0  The Department of Housing Preservation and Dev...       NaN  Closed   \n",
       "1  The Department of Housing Preservation and Dev...       NaN  Closed   \n",
       "2  The complaint you filed is a duplicate of a co...       NaN  Closed   \n",
       "3  The Department of Health and Mental Hygiene wi...       NaN  Closed   \n",
       "4  The Department of Housing Preservation and Dev...       NaN  Closed   \n",
       "\n",
       "        street_name taxi_company_borough taxi_pick_up_location  unique_key  \\\n",
       "0         82 STREET                  NaN                   NaN    30298583   \n",
       "1    SIMPSON STREET                  NaN                   NaN    30299044   \n",
       "2    SANFORD AVENUE                  NaN                   NaN    30299153   \n",
       "3    ORCHARD STREET                  NaN                   NaN    30299598   \n",
       "4  WEST  168 STREET                  NaN                   NaN    30299711   \n",
       "\n",
       "  vehicle_type  x_coordinate_state_plane  y_coordinate_state_plane  \n",
       "0          NaN                    977719                    166461  \n",
       "1          NaN                   1013901                    238597  \n",
       "2          NaN                   1031752                    215028  \n",
       "3          NaN                    987540                    202386  \n",
       "4          NaN                   1001531                    245371  "
      ]
     },
     "execution_count": 23,
     "metadata": {},
     "output_type": "execute_result"
    }
   ],
   "source": [
    "before.head()"
   ]
  },
  {
   "cell_type": "code",
   "execution_count": 24,
   "metadata": {},
   "outputs": [
    {
     "data": {
      "text/plain": [
       "(331963, 41)"
      ]
     },
     "execution_count": 24,
     "metadata": {},
     "output_type": "execute_result"
    }
   ],
   "source": [
    "before.shape"
   ]
  },
  {
   "cell_type": "code",
   "execution_count": 25,
   "metadata": {
    "scrolled": true
   },
   "outputs": [],
   "source": [
    "sidewalkBefore = before[before['complaint_type'] == 'Noise - Street/Sidewalk'].reset_index(drop = True)"
   ]
  },
  {
   "cell_type": "code",
   "execution_count": null,
   "metadata": {},
   "outputs": [],
   "source": [
    "after = after[-after['location'].isna()].reset_index(drop = True)"
   ]
  },
  {
   "cell_type": "code",
   "execution_count": 27,
   "metadata": {},
   "outputs": [
    {
     "name": "stderr",
     "output_type": "stream",
     "text": [
      "/usr/local/Anaconda3-5.0.0-Linux-x86_64/envs/PUI2016_Python3/lib/python3.5/site-packages/IPython/core/interactiveshell.py:2717: DtypeWarning: Columns (22,38) have mixed types. Specify dtype option on import or set low_memory=False.\n",
      "  interactivity=interactivity, compiler=compiler, result=result)\n"
     ]
    }
   ],
   "source": [
    "after = pd.read_csv(\"after.csv\")"
   ]
  },
  {
   "cell_type": "code",
   "execution_count": 28,
   "metadata": {},
   "outputs": [
    {
     "data": {
      "text/html": [
       "<div>\n",
       "<table border=\"1\" class=\"dataframe\">\n",
       "  <thead>\n",
       "    <tr style=\"text-align: right;\">\n",
       "      <th></th>\n",
       "      <th>address_type</th>\n",
       "      <th>agency</th>\n",
       "      <th>agency_name</th>\n",
       "      <th>bbl</th>\n",
       "      <th>borough</th>\n",
       "      <th>bridge_highway_direction</th>\n",
       "      <th>bridge_highway_name</th>\n",
       "      <th>bridge_highway_segment</th>\n",
       "      <th>city</th>\n",
       "      <th>closed_date</th>\n",
       "      <th>community_board</th>\n",
       "      <th>complaint_type</th>\n",
       "      <th>created_date</th>\n",
       "      <th>cross_street_1</th>\n",
       "      <th>cross_street_2</th>\n",
       "      <th>descriptor</th>\n",
       "      <th>due_date</th>\n",
       "      <th>facility_type</th>\n",
       "      <th>incident_address</th>\n",
       "      <th>incident_zip</th>\n",
       "      <th>intersection_street_1</th>\n",
       "      <th>intersection_street_2</th>\n",
       "      <th>landmark</th>\n",
       "      <th>latitude</th>\n",
       "      <th>location</th>\n",
       "      <th>location_type</th>\n",
       "      <th>longitude</th>\n",
       "      <th>open_data_channel_type</th>\n",
       "      <th>park_borough</th>\n",
       "      <th>park_facility_name</th>\n",
       "      <th>resolution_action_updated_date</th>\n",
       "      <th>resolution_description</th>\n",
       "      <th>road_ramp</th>\n",
       "      <th>status</th>\n",
       "      <th>street_name</th>\n",
       "      <th>taxi_company_borough</th>\n",
       "      <th>taxi_pick_up_location</th>\n",
       "      <th>unique_key</th>\n",
       "      <th>vehicle_type</th>\n",
       "      <th>x_coordinate_state_plane</th>\n",
       "      <th>y_coordinate_state_plane</th>\n",
       "    </tr>\n",
       "  </thead>\n",
       "  <tbody>\n",
       "    <tr>\n",
       "      <th>0</th>\n",
       "      <td>ADDRESS</td>\n",
       "      <td>DOHMH</td>\n",
       "      <td>Department of Health and Mental Hygiene</td>\n",
       "      <td>3.037200e+09</td>\n",
       "      <td>BROOKLYN</td>\n",
       "      <td>NaN</td>\n",
       "      <td>NaN</td>\n",
       "      <td>NaN</td>\n",
       "      <td>BROOKLYN</td>\n",
       "      <td>2019-04-01T00:00:00.000</td>\n",
       "      <td>05 BROOKLYN</td>\n",
       "      <td>Rodent</td>\n",
       "      <td>2019-04-01T00:00:00.000</td>\n",
       "      <td>GLENMORE AVENUE</td>\n",
       "      <td>PITKIN AVENUE</td>\n",
       "      <td>Rat Sighting</td>\n",
       "      <td>2019-05-01T02:13:32.000</td>\n",
       "      <td>NaN</td>\n",
       "      <td>177 SHEFFIELD AVENUE</td>\n",
       "      <td>11207.0</td>\n",
       "      <td>NaN</td>\n",
       "      <td>NaN</td>\n",
       "      <td>NaN</td>\n",
       "      <td>40.672827</td>\n",
       "      <td>{'type': 'Point', 'coordinates': [-73.89710656...</td>\n",
       "      <td>3+ Family Mixed Use Building</td>\n",
       "      <td>-73.897107</td>\n",
       "      <td>ONLINE</td>\n",
       "      <td>BROOKLYN</td>\n",
       "      <td>Unspecified</td>\n",
       "      <td>2019-04-01T02:16:23.000</td>\n",
       "      <td>The Department of Health and Mental Hygiene wi...</td>\n",
       "      <td>NaN</td>\n",
       "      <td>Closed</td>\n",
       "      <td>SHEFFIELD AVENUE</td>\n",
       "      <td>NaN</td>\n",
       "      <td>NaN</td>\n",
       "      <td>42098134</td>\n",
       "      <td>NaN</td>\n",
       "      <td>1012792</td>\n",
       "      <td>184422</td>\n",
       "    </tr>\n",
       "    <tr>\n",
       "      <th>1</th>\n",
       "      <td>LATLONG</td>\n",
       "      <td>DOHMH</td>\n",
       "      <td>Department of Health and Mental Hygiene</td>\n",
       "      <td>NaN</td>\n",
       "      <td>MANHATTAN</td>\n",
       "      <td>NaN</td>\n",
       "      <td>NaN</td>\n",
       "      <td>NaN</td>\n",
       "      <td>NEW YORK</td>\n",
       "      <td>2019-04-01T00:00:00.000</td>\n",
       "      <td>Unspecified MANHATTAN</td>\n",
       "      <td>Rodent</td>\n",
       "      <td>2019-04-01T00:00:00.000</td>\n",
       "      <td>NaN</td>\n",
       "      <td>NaN</td>\n",
       "      <td>Rat Sighting</td>\n",
       "      <td>2019-05-01T01:54:21.000</td>\n",
       "      <td>NaN</td>\n",
       "      <td>190 HESTER STREET</td>\n",
       "      <td>10013.0</td>\n",
       "      <td>NaN</td>\n",
       "      <td>NaN</td>\n",
       "      <td>NaN</td>\n",
       "      <td>40.718131</td>\n",
       "      <td>{'type': 'Point', 'coordinates': [-73.99849930...</td>\n",
       "      <td>Commercial Building</td>\n",
       "      <td>-73.998499</td>\n",
       "      <td>MOBILE</td>\n",
       "      <td>MANHATTAN</td>\n",
       "      <td>Unspecified</td>\n",
       "      <td>2019-04-01T01:57:06.000</td>\n",
       "      <td>The Department of Health and Mental Hygiene wi...</td>\n",
       "      <td>NaN</td>\n",
       "      <td>Closed</td>\n",
       "      <td>HESTER STREET</td>\n",
       "      <td>NaN</td>\n",
       "      <td>NaN</td>\n",
       "      <td>42098838</td>\n",
       "      <td>NaN</td>\n",
       "      <td>984666</td>\n",
       "      <td>200911</td>\n",
       "    </tr>\n",
       "    <tr>\n",
       "      <th>2</th>\n",
       "      <td>ADDRESS</td>\n",
       "      <td>DOHMH</td>\n",
       "      <td>Department of Health and Mental Hygiene</td>\n",
       "      <td>2.027980e+09</td>\n",
       "      <td>BRONX</td>\n",
       "      <td>NaN</td>\n",
       "      <td>NaN</td>\n",
       "      <td>NaN</td>\n",
       "      <td>BRONX</td>\n",
       "      <td>2019-04-01T00:00:00.000</td>\n",
       "      <td>05 BRONX</td>\n",
       "      <td>Rodent</td>\n",
       "      <td>2019-04-01T00:00:00.000</td>\n",
       "      <td>CROSS BRONX EXPRESSWAY</td>\n",
       "      <td>EAST 175 STREET</td>\n",
       "      <td>Condition Attracting Rodents</td>\n",
       "      <td>2019-05-01T01:35:01.000</td>\n",
       "      <td>NaN</td>\n",
       "      <td>1748 MONROE AVENUE</td>\n",
       "      <td>10457.0</td>\n",
       "      <td>NaN</td>\n",
       "      <td>NaN</td>\n",
       "      <td>NaN</td>\n",
       "      <td>40.845902</td>\n",
       "      <td>{'type': 'Point', 'coordinates': [-73.90654342...</td>\n",
       "      <td>3+ Family Apt. Building</td>\n",
       "      <td>-73.906543</td>\n",
       "      <td>PHONE</td>\n",
       "      <td>BRONX</td>\n",
       "      <td>Unspecified</td>\n",
       "      <td>2019-04-01T01:47:59.000</td>\n",
       "      <td>The Department of Health and Mental Hygiene wi...</td>\n",
       "      <td>NaN</td>\n",
       "      <td>Closed</td>\n",
       "      <td>MONROE AVENUE</td>\n",
       "      <td>NaN</td>\n",
       "      <td>NaN</td>\n",
       "      <td>42102064</td>\n",
       "      <td>NaN</td>\n",
       "      <td>1010107</td>\n",
       "      <td>247476</td>\n",
       "    </tr>\n",
       "    <tr>\n",
       "      <th>3</th>\n",
       "      <td>ADDRESS</td>\n",
       "      <td>DOHMH</td>\n",
       "      <td>Department of Health and Mental Hygiene</td>\n",
       "      <td>3.009630e+09</td>\n",
       "      <td>BROOKLYN</td>\n",
       "      <td>NaN</td>\n",
       "      <td>NaN</td>\n",
       "      <td>NaN</td>\n",
       "      <td>BROOKLYN</td>\n",
       "      <td>2019-04-01T00:00:01.000</td>\n",
       "      <td>06 BROOKLYN</td>\n",
       "      <td>Food Poisoning</td>\n",
       "      <td>2019-04-01T00:00:00.000</td>\n",
       "      <td>CARROLL STREET</td>\n",
       "      <td>GARFIELD PLACE</td>\n",
       "      <td>1 or 2</td>\n",
       "      <td>2019-04-15T10:52:19.000</td>\n",
       "      <td>NaN</td>\n",
       "      <td>152 7 AVENUE</td>\n",
       "      <td>11215.0</td>\n",
       "      <td>NaN</td>\n",
       "      <td>NaN</td>\n",
       "      <td>NaN</td>\n",
       "      <td>40.672508</td>\n",
       "      <td>{'type': 'Point', 'coordinates': [-73.97691380...</td>\n",
       "      <td>Restaurant/Bar/Deli/Bakery</td>\n",
       "      <td>-73.976914</td>\n",
       "      <td>ONLINE</td>\n",
       "      <td>BROOKLYN</td>\n",
       "      <td>Unspecified</td>\n",
       "      <td>2019-04-11T11:45:27.000</td>\n",
       "      <td>The Department of Health and Mental Hygiene wi...</td>\n",
       "      <td>NaN</td>\n",
       "      <td>Closed</td>\n",
       "      <td>7 AVENUE</td>\n",
       "      <td>NaN</td>\n",
       "      <td>NaN</td>\n",
       "      <td>42104690</td>\n",
       "      <td>NaN</td>\n",
       "      <td>990654</td>\n",
       "      <td>184290</td>\n",
       "    </tr>\n",
       "    <tr>\n",
       "      <th>4</th>\n",
       "      <td>ADDRESS</td>\n",
       "      <td>DOHMH</td>\n",
       "      <td>Department of Health and Mental Hygiene</td>\n",
       "      <td>NaN</td>\n",
       "      <td>QUEENS</td>\n",
       "      <td>NaN</td>\n",
       "      <td>NaN</td>\n",
       "      <td>NaN</td>\n",
       "      <td>SOUTH RICHMOND HILL</td>\n",
       "      <td>2019-04-11T00:00:01.000</td>\n",
       "      <td>10 QUEENS</td>\n",
       "      <td>Food Poisoning</td>\n",
       "      <td>2019-04-01T00:00:00.000</td>\n",
       "      <td>LIBERTY AVENUE</td>\n",
       "      <td>120 STREET</td>\n",
       "      <td>1 or 2</td>\n",
       "      <td>2019-04-15T08:43:18.000</td>\n",
       "      <td>NaN</td>\n",
       "      <td>120 Liberty Avenue</td>\n",
       "      <td>11419.0</td>\n",
       "      <td>120 STREET</td>\n",
       "      <td>LIBERTY AVENUE</td>\n",
       "      <td>NaN</td>\n",
       "      <td>40.686573</td>\n",
       "      <td>{'type': 'Point', 'coordinates': [-73.82329768...</td>\n",
       "      <td>Restaurant/Bar/Deli/Bakery</td>\n",
       "      <td>-73.823298</td>\n",
       "      <td>PHONE</td>\n",
       "      <td>QUEENS</td>\n",
       "      <td>Unspecified</td>\n",
       "      <td>2019-04-11T11:20:56.000</td>\n",
       "      <td>The Department of Health and Mental Hygiene wi...</td>\n",
       "      <td>NaN</td>\n",
       "      <td>Closed</td>\n",
       "      <td>Liberty Avenue</td>\n",
       "      <td>NaN</td>\n",
       "      <td>NaN</td>\n",
       "      <td>42104689</td>\n",
       "      <td>NaN</td>\n",
       "      <td>1033256</td>\n",
       "      <td>189463</td>\n",
       "    </tr>\n",
       "  </tbody>\n",
       "</table>\n",
       "</div>"
      ],
      "text/plain": [
       "  address_type agency                              agency_name           bbl  \\\n",
       "0      ADDRESS  DOHMH  Department of Health and Mental Hygiene  3.037200e+09   \n",
       "1      LATLONG  DOHMH  Department of Health and Mental Hygiene           NaN   \n",
       "2      ADDRESS  DOHMH  Department of Health and Mental Hygiene  2.027980e+09   \n",
       "3      ADDRESS  DOHMH  Department of Health and Mental Hygiene  3.009630e+09   \n",
       "4      ADDRESS  DOHMH  Department of Health and Mental Hygiene           NaN   \n",
       "\n",
       "     borough bridge_highway_direction bridge_highway_name  \\\n",
       "0   BROOKLYN                      NaN                 NaN   \n",
       "1  MANHATTAN                      NaN                 NaN   \n",
       "2      BRONX                      NaN                 NaN   \n",
       "3   BROOKLYN                      NaN                 NaN   \n",
       "4     QUEENS                      NaN                 NaN   \n",
       "\n",
       "  bridge_highway_segment                 city              closed_date  \\\n",
       "0                    NaN             BROOKLYN  2019-04-01T00:00:00.000   \n",
       "1                    NaN             NEW YORK  2019-04-01T00:00:00.000   \n",
       "2                    NaN                BRONX  2019-04-01T00:00:00.000   \n",
       "3                    NaN             BROOKLYN  2019-04-01T00:00:01.000   \n",
       "4                    NaN  SOUTH RICHMOND HILL  2019-04-11T00:00:01.000   \n",
       "\n",
       "         community_board  complaint_type             created_date  \\\n",
       "0            05 BROOKLYN          Rodent  2019-04-01T00:00:00.000   \n",
       "1  Unspecified MANHATTAN          Rodent  2019-04-01T00:00:00.000   \n",
       "2               05 BRONX          Rodent  2019-04-01T00:00:00.000   \n",
       "3            06 BROOKLYN  Food Poisoning  2019-04-01T00:00:00.000   \n",
       "4              10 QUEENS  Food Poisoning  2019-04-01T00:00:00.000   \n",
       "\n",
       "           cross_street_1   cross_street_2                    descriptor  \\\n",
       "0         GLENMORE AVENUE    PITKIN AVENUE                  Rat Sighting   \n",
       "1                     NaN              NaN                  Rat Sighting   \n",
       "2  CROSS BRONX EXPRESSWAY  EAST 175 STREET  Condition Attracting Rodents   \n",
       "3          CARROLL STREET   GARFIELD PLACE                        1 or 2   \n",
       "4          LIBERTY AVENUE       120 STREET                        1 or 2   \n",
       "\n",
       "                  due_date facility_type      incident_address  incident_zip  \\\n",
       "0  2019-05-01T02:13:32.000           NaN  177 SHEFFIELD AVENUE       11207.0   \n",
       "1  2019-05-01T01:54:21.000           NaN     190 HESTER STREET       10013.0   \n",
       "2  2019-05-01T01:35:01.000           NaN    1748 MONROE AVENUE       10457.0   \n",
       "3  2019-04-15T10:52:19.000           NaN          152 7 AVENUE       11215.0   \n",
       "4  2019-04-15T08:43:18.000           NaN    120 Liberty Avenue       11419.0   \n",
       "\n",
       "  intersection_street_1 intersection_street_2 landmark   latitude  \\\n",
       "0                   NaN                   NaN      NaN  40.672827   \n",
       "1                   NaN                   NaN      NaN  40.718131   \n",
       "2                   NaN                   NaN      NaN  40.845902   \n",
       "3                   NaN                   NaN      NaN  40.672508   \n",
       "4            120 STREET        LIBERTY AVENUE      NaN  40.686573   \n",
       "\n",
       "                                            location  \\\n",
       "0  {'type': 'Point', 'coordinates': [-73.89710656...   \n",
       "1  {'type': 'Point', 'coordinates': [-73.99849930...   \n",
       "2  {'type': 'Point', 'coordinates': [-73.90654342...   \n",
       "3  {'type': 'Point', 'coordinates': [-73.97691380...   \n",
       "4  {'type': 'Point', 'coordinates': [-73.82329768...   \n",
       "\n",
       "                  location_type  longitude open_data_channel_type  \\\n",
       "0  3+ Family Mixed Use Building -73.897107                 ONLINE   \n",
       "1           Commercial Building -73.998499                 MOBILE   \n",
       "2       3+ Family Apt. Building -73.906543                  PHONE   \n",
       "3    Restaurant/Bar/Deli/Bakery -73.976914                 ONLINE   \n",
       "4    Restaurant/Bar/Deli/Bakery -73.823298                  PHONE   \n",
       "\n",
       "  park_borough park_facility_name resolution_action_updated_date  \\\n",
       "0     BROOKLYN        Unspecified        2019-04-01T02:16:23.000   \n",
       "1    MANHATTAN        Unspecified        2019-04-01T01:57:06.000   \n",
       "2        BRONX        Unspecified        2019-04-01T01:47:59.000   \n",
       "3     BROOKLYN        Unspecified        2019-04-11T11:45:27.000   \n",
       "4       QUEENS        Unspecified        2019-04-11T11:20:56.000   \n",
       "\n",
       "                              resolution_description road_ramp  status  \\\n",
       "0  The Department of Health and Mental Hygiene wi...       NaN  Closed   \n",
       "1  The Department of Health and Mental Hygiene wi...       NaN  Closed   \n",
       "2  The Department of Health and Mental Hygiene wi...       NaN  Closed   \n",
       "3  The Department of Health and Mental Hygiene wi...       NaN  Closed   \n",
       "4  The Department of Health and Mental Hygiene wi...       NaN  Closed   \n",
       "\n",
       "        street_name taxi_company_borough taxi_pick_up_location  unique_key  \\\n",
       "0  SHEFFIELD AVENUE                  NaN                   NaN    42098134   \n",
       "1     HESTER STREET                  NaN                   NaN    42098838   \n",
       "2     MONROE AVENUE                  NaN                   NaN    42102064   \n",
       "3          7 AVENUE                  NaN                   NaN    42104690   \n",
       "4    Liberty Avenue                  NaN                   NaN    42104689   \n",
       "\n",
       "  vehicle_type  x_coordinate_state_plane  y_coordinate_state_plane  \n",
       "0          NaN                   1012792                    184422  \n",
       "1          NaN                    984666                    200911  \n",
       "2          NaN                   1010107                    247476  \n",
       "3          NaN                    990654                    184290  \n",
       "4          NaN                   1033256                    189463  "
      ]
     },
     "execution_count": 28,
     "metadata": {},
     "output_type": "execute_result"
    }
   ],
   "source": [
    "after.head()"
   ]
  },
  {
   "cell_type": "code",
   "execution_count": 29,
   "metadata": {},
   "outputs": [
    {
     "data": {
      "text/plain": [
       "(433552, 41)"
      ]
     },
     "execution_count": 29,
     "metadata": {},
     "output_type": "execute_result"
    }
   ],
   "source": [
    "after.shape"
   ]
  },
  {
   "cell_type": "code",
   "execution_count": 30,
   "metadata": {},
   "outputs": [],
   "source": [
    "sidewalkAfter = after[after['complaint_type'] == 'Noise - Street/Sidewalk'].reset_index(drop = True)"
   ]
  },
  {
   "cell_type": "code",
   "execution_count": 31,
   "metadata": {},
   "outputs": [],
   "source": [
    "before['latitude'] = before['latitude'].apply(lambda x: float(x)).tolist()\n",
    "before['longitude'] = before['longitude'].apply(lambda x: float(x)).tolist()\n",
    "after['latitude'] = after['latitude'].apply(lambda x: float(x)).tolist()\n",
    "after['longitude'] = after['longitude'].apply(lambda x: float(x)).tolist()"
   ]
  },
  {
   "cell_type": "code",
   "execution_count": 32,
   "metadata": {},
   "outputs": [],
   "source": [
    "sidewalkBefore['latitude'] = sidewalkBefore['latitude'].apply(lambda x: float(x)).tolist()\n",
    "sidewalkBefore['longitude'] = sidewalkBefore['longitude'].apply(lambda x: float(x)).tolist()\n",
    "sidewalkAfter['latitude'] = sidewalkAfter['latitude'].apply(lambda x: float(x)).tolist()\n",
    "sidewalkAfter['longitude'] = sidewalkAfter['longitude'].apply(lambda x: float(x)).tolist()"
   ]
  },
  {
   "cell_type": "code",
   "execution_count": 33,
   "metadata": {},
   "outputs": [
    {
     "data": {
      "text/plain": [
       "1.306025069058901"
      ]
     },
     "execution_count": 33,
     "metadata": {},
     "output_type": "execute_result"
    }
   ],
   "source": [
    "(after.shape[0]+0.0)/before.shape[0]"
   ]
  },
  {
   "cell_type": "code",
   "execution_count": 74,
   "metadata": {},
   "outputs": [],
   "source": [
    "totalRate = round((after.shape[0]+0.0)/before.shape[0], 2)"
   ]
  },
  {
   "cell_type": "markdown",
   "metadata": {},
   "source": [
    "The overall 311 complaint counts of NYC is increased about 31%."
   ]
  },
  {
   "cell_type": "code",
   "execution_count": 34,
   "metadata": {},
   "outputs": [
    {
     "data": {
      "text/plain": [
       "1.6293672824734373"
      ]
     },
     "execution_count": 34,
     "metadata": {},
     "output_type": "execute_result"
    }
   ],
   "source": [
    "(sidewalkAfter.shape[0]+0.0)/sidewalkBefore.shape[0]"
   ]
  },
  {
   "cell_type": "code",
   "execution_count": 76,
   "metadata": {},
   "outputs": [],
   "source": [
    "sidewalkRate = round((sidewalkAfter.shape[0]+0.0)/sidewalkBefore.shape[0], 2)"
   ]
  },
  {
   "cell_type": "markdown",
   "metadata": {},
   "source": [
    "The 311 complaint about sidewalk noise of NYC is increased about 63%."
   ]
  },
  {
   "cell_type": "markdown",
   "metadata": {},
   "source": [
    "### Get ACS census data"
   ]
  },
  {
   "cell_type": "code",
   "execution_count": 37,
   "metadata": {},
   "outputs": [],
   "source": [
    "censusBlock = gpd.GeoDataFrame.from_file(census_blocks)"
   ]
  },
  {
   "cell_type": "code",
   "execution_count": 38,
   "metadata": {},
   "outputs": [
    {
     "data": {
      "text/html": [
       "<div>\n",
       "<table border=\"1\" class=\"dataframe\">\n",
       "  <thead>\n",
       "    <tr style=\"text-align: right;\">\n",
       "      <th></th>\n",
       "      <th>bctcb2010</th>\n",
       "      <th>boro_code</th>\n",
       "      <th>boro_name</th>\n",
       "      <th>cb2010</th>\n",
       "      <th>ct2010</th>\n",
       "      <th>shape_area</th>\n",
       "      <th>shape_leng</th>\n",
       "      <th>geometry</th>\n",
       "    </tr>\n",
       "  </thead>\n",
       "  <tbody>\n",
       "    <tr>\n",
       "      <th>0</th>\n",
       "      <td>50009001000</td>\n",
       "      <td>5</td>\n",
       "      <td>Staten Island</td>\n",
       "      <td>1000</td>\n",
       "      <td>000900</td>\n",
       "      <td>244589.603884</td>\n",
       "      <td>2508.948115</td>\n",
       "      <td>POLYGON ((-74.07920577013245 40.64343078374567...</td>\n",
       "    </tr>\n",
       "    <tr>\n",
       "      <th>1</th>\n",
       "      <td>50020011000</td>\n",
       "      <td>5</td>\n",
       "      <td>Staten Island</td>\n",
       "      <td>1000</td>\n",
       "      <td>002001</td>\n",
       "      <td>111006.286826</td>\n",
       "      <td>1345.886422</td>\n",
       "      <td>POLYGON ((-74.07061992438017 40.61085506705416...</td>\n",
       "    </tr>\n",
       "    <tr>\n",
       "      <th>2</th>\n",
       "      <td>50027001000</td>\n",
       "      <td>5</td>\n",
       "      <td>Staten Island</td>\n",
       "      <td>1000</td>\n",
       "      <td>002700</td>\n",
       "      <td>150406.766022</td>\n",
       "      <td>1703.381172</td>\n",
       "      <td>POLYGON ((-74.07524403910642 40.62600632452712...</td>\n",
       "    </tr>\n",
       "    <tr>\n",
       "      <th>3</th>\n",
       "      <td>50040001000</td>\n",
       "      <td>5</td>\n",
       "      <td>Staten Island</td>\n",
       "      <td>1000</td>\n",
       "      <td>004000</td>\n",
       "      <td>141296.561149</td>\n",
       "      <td>1511.173743</td>\n",
       "      <td>POLYGON ((-74.08708799689826 40.61116883123925...</td>\n",
       "    </tr>\n",
       "    <tr>\n",
       "      <th>4</th>\n",
       "      <td>50064001000</td>\n",
       "      <td>5</td>\n",
       "      <td>Staten Island</td>\n",
       "      <td>1000</td>\n",
       "      <td>006400</td>\n",
       "      <td>200784.983607</td>\n",
       "      <td>1978.243852</td>\n",
       "      <td>POLYGON ((-74.07643744511992 40.60100160655585...</td>\n",
       "    </tr>\n",
       "  </tbody>\n",
       "</table>\n",
       "</div>"
      ],
      "text/plain": [
       "     bctcb2010 boro_code      boro_name cb2010  ct2010     shape_area  \\\n",
       "0  50009001000         5  Staten Island   1000  000900  244589.603884   \n",
       "1  50020011000         5  Staten Island   1000  002001  111006.286826   \n",
       "2  50027001000         5  Staten Island   1000  002700  150406.766022   \n",
       "3  50040001000         5  Staten Island   1000  004000  141296.561149   \n",
       "4  50064001000         5  Staten Island   1000  006400  200784.983607   \n",
       "\n",
       "    shape_leng                                           geometry  \n",
       "0  2508.948115  POLYGON ((-74.07920577013245 40.64343078374567...  \n",
       "1  1345.886422  POLYGON ((-74.07061992438017 40.61085506705416...  \n",
       "2  1703.381172  POLYGON ((-74.07524403910642 40.62600632452712...  \n",
       "3  1511.173743  POLYGON ((-74.08708799689826 40.61116883123925...  \n",
       "4  1978.243852  POLYGON ((-74.07643744511992 40.60100160655585...  "
      ]
     },
     "execution_count": 38,
     "metadata": {},
     "output_type": "execute_result"
    }
   ],
   "source": [
    "censusBlock.head()"
   ]
  },
  {
   "cell_type": "code",
   "execution_count": 41,
   "metadata": {},
   "outputs": [],
   "source": [
    "# sum(censusBlock.isna())"
   ]
  },
  {
   "cell_type": "code",
   "execution_count": 42,
   "metadata": {},
   "outputs": [
    {
     "data": {
      "text/plain": [
       "(38796, 8)"
      ]
     },
     "execution_count": 42,
     "metadata": {},
     "output_type": "execute_result"
    }
   ],
   "source": [
    "censusBlock.shape"
   ]
  },
  {
   "cell_type": "markdown",
   "metadata": {},
   "source": [
    "Aggregate LinkNYC and 311 data into census block."
   ]
  },
  {
   "cell_type": "code",
   "execution_count": 45,
   "metadata": {},
   "outputs": [],
   "source": [
    "# import pyproj\n",
    "# pyproj.Proj(\"+init=epsg:4326\")\n",
    "\n",
    "linkLocation['lonlat'] = list(zip(linkLocation.Longitude,linkLocation.Latitude))\n",
    "linkLocation['geometry'] = linkLocation[['lonlat']].applymap(lambda x:shapely.geometry.Point(x))\n",
    "\n",
    "linkLocation = gpd.GeoDataFrame(linkLocation)\n",
    "linkLocation.crs = from_epsg(4326)\n",
    "\n",
    "linkLocation_ft = linkLocation.to_crs(epsg=2263)\n",
    "censusBlock_ft = censusBlock.to_crs(epsg=2263)"
   ]
  },
  {
   "cell_type": "code",
   "execution_count": 46,
   "metadata": {},
   "outputs": [],
   "source": [
    "kioskCountBlock = gpd.sjoin(censusBlock_ft, linkLocation_ft).groupby('bctcb2010').size().to_frame().rename(columns = {0: 'linknycCount'})\n",
    "kioskCountBlock.reset_index(inplace = True)"
   ]
  },
  {
   "cell_type": "code",
   "execution_count": 47,
   "metadata": {},
   "outputs": [],
   "source": [
    "kioskCountBlock = censusBlock_ft.merge(kioskCountBlock, how = 'outer')[['bctcb2010', 'linknycCount']].fillna(0)"
   ]
  },
  {
   "cell_type": "code",
   "execution_count": 48,
   "metadata": {},
   "outputs": [],
   "source": [
    "kioskCountBlock['linknycCount'] = kioskCountBlock['linknycCount'].apply(lambda x: int(x)).tolist()"
   ]
  },
  {
   "cell_type": "code",
   "execution_count": 49,
   "metadata": {},
   "outputs": [],
   "source": [
    "before['lonlat'] = list(zip(before.longitude,before.latitude))\n",
    "before['geometry'] = before[['lonlat']].applymap(lambda x:shapely.geometry.Point(x))\n",
    "\n",
    "before = gpd.GeoDataFrame(before)\n",
    "before.crs = from_epsg(4326)\n",
    "\n",
    "before_ft = before.to_crs(epsg=2263)\n",
    "#censusBlock_ft = censusBlock.to_crs(epsg=2263)"
   ]
  },
  {
   "cell_type": "code",
   "execution_count": 50,
   "metadata": {},
   "outputs": [],
   "source": [
    "sidewalkBefore['lonlat'] = list(zip(sidewalkBefore.longitude,sidewalkBefore.latitude))\n",
    "sidewalkBefore['geometry'] = sidewalkBefore[['lonlat']].applymap(lambda x:shapely.geometry.Point(x))\n",
    "\n",
    "sidewalkBefore = gpd.GeoDataFrame(sidewalkBefore)\n",
    "sidewalkBefore.crs = from_epsg(4326)\n",
    "\n",
    "sidewalkBefore_ft = sidewalkBefore.to_crs(epsg=2263)"
   ]
  },
  {
   "cell_type": "code",
   "execution_count": 51,
   "metadata": {},
   "outputs": [],
   "source": [
    "after['lonlat'] = list(zip(after.longitude,after.latitude))\n",
    "after['geometry'] = after[['lonlat']].applymap(lambda x:shapely.geometry.Point(x))\n",
    "\n",
    "after = gpd.GeoDataFrame(after)\n",
    "after.crs = from_epsg(4326)\n",
    "\n",
    "after_ft = after.to_crs(epsg=2263)"
   ]
  },
  {
   "cell_type": "code",
   "execution_count": 52,
   "metadata": {},
   "outputs": [],
   "source": [
    "sidewalkAfter['lonlat'] = list(zip(sidewalkAfter.longitude,sidewalkAfter.latitude))\n",
    "sidewalkAfter['geometry'] = sidewalkAfter[['lonlat']].applymap(lambda x:shapely.geometry.Point(x))\n",
    "\n",
    "sidewalkAfter = gpd.GeoDataFrame(sidewalkAfter)\n",
    "sidewalkAfter.crs = from_epsg(4326)\n",
    "\n",
    "sidewalkAfter_ft = sidewalkAfter.to_crs(epsg=2263)"
   ]
  },
  {
   "cell_type": "code",
   "execution_count": 53,
   "metadata": {},
   "outputs": [],
   "source": [
    "before311CountBlock = gpd.sjoin(censusBlock_ft, before_ft).groupby('bctcb2010').size().to_frame().rename(columns = {0: 'beforeCount'})\n",
    "before311CountBlock.reset_index(inplace = True)"
   ]
  },
  {
   "cell_type": "code",
   "execution_count": 54,
   "metadata": {},
   "outputs": [],
   "source": [
    "sidewalkBefore311CountBlock = gpd.sjoin(censusBlock_ft, sidewalkBefore_ft).groupby('bctcb2010').size().to_frame().rename(columns = {0: 'beforeCount'})\n",
    "sidewalkBefore311CountBlock.reset_index(inplace = True)"
   ]
  },
  {
   "cell_type": "code",
   "execution_count": 55,
   "metadata": {},
   "outputs": [],
   "source": [
    "after311CountBlock = gpd.sjoin(censusBlock_ft, after_ft).groupby('bctcb2010').size().to_frame().rename(columns = {0: 'afterCount'})\n",
    "after311CountBlock.reset_index(inplace = True)"
   ]
  },
  {
   "cell_type": "code",
   "execution_count": 56,
   "metadata": {},
   "outputs": [],
   "source": [
    "sidewalkAfter311CountBlock = gpd.sjoin(censusBlock_ft, sidewalkAfter_ft).groupby('bctcb2010').size().to_frame().rename(columns = {0: 'afterCount'})\n",
    "sidewalkAfter311CountBlock.reset_index(inplace = True)"
   ]
  },
  {
   "cell_type": "code",
   "execution_count": 57,
   "metadata": {},
   "outputs": [],
   "source": [
    "before311CountBlock = censusBlock_ft.merge(before311CountBlock, how = 'outer')[['bctcb2010', 'beforeCount']].fillna(0)\n",
    "after311CountBlock = censusBlock_ft.merge(after311CountBlock, how = 'outer')[['bctcb2010', 'afterCount']].fillna(0)"
   ]
  },
  {
   "cell_type": "code",
   "execution_count": 58,
   "metadata": {},
   "outputs": [],
   "source": [
    "sidewalkBefore311CountBlock = censusBlock_ft.merge(sidewalkBefore311CountBlock, how = 'outer')[['bctcb2010', 'beforeCount']].fillna(0)\n",
    "sidewalkAfter311CountBlock = censusBlock_ft.merge(sidewalkAfter311CountBlock, how = 'outer')[['bctcb2010', 'afterCount']].fillna(0)"
   ]
  },
  {
   "cell_type": "code",
   "execution_count": 59,
   "metadata": {},
   "outputs": [],
   "source": [
    "before311CountBlock['beforeCount'] = before311CountBlock['beforeCount'].apply(lambda x: int(x)).tolist()\n",
    "after311CountBlock['afterCount'] = after311CountBlock['afterCount'].apply(lambda x: int(x)).tolist()"
   ]
  },
  {
   "cell_type": "code",
   "execution_count": 60,
   "metadata": {},
   "outputs": [],
   "source": [
    "sidewalkBefore311CountBlock['beforeCount'] = sidewalkBefore311CountBlock['beforeCount'].apply(lambda x: int(x)).tolist()\n",
    "sidewalkAfter311CountBlock['afterCount'] = sidewalkAfter311CountBlock['afterCount'].apply(lambda x: int(x)).tolist()"
   ]
  },
  {
   "cell_type": "code",
   "execution_count": 61,
   "metadata": {},
   "outputs": [
    {
     "data": {
      "text/html": [
       "<div>\n",
       "<table border=\"1\" class=\"dataframe\">\n",
       "  <thead>\n",
       "    <tr style=\"text-align: right;\">\n",
       "      <th></th>\n",
       "      <th>bctcb2010</th>\n",
       "      <th>beforeCount</th>\n",
       "    </tr>\n",
       "  </thead>\n",
       "  <tbody>\n",
       "    <tr>\n",
       "      <th>0</th>\n",
       "      <td>50009001000</td>\n",
       "      <td>8</td>\n",
       "    </tr>\n",
       "    <tr>\n",
       "      <th>1</th>\n",
       "      <td>50020011000</td>\n",
       "      <td>2</td>\n",
       "    </tr>\n",
       "    <tr>\n",
       "      <th>2</th>\n",
       "      <td>50027001000</td>\n",
       "      <td>48</td>\n",
       "    </tr>\n",
       "    <tr>\n",
       "      <th>3</th>\n",
       "      <td>50040001000</td>\n",
       "      <td>2</td>\n",
       "    </tr>\n",
       "    <tr>\n",
       "      <th>4</th>\n",
       "      <td>50064001000</td>\n",
       "      <td>2</td>\n",
       "    </tr>\n",
       "  </tbody>\n",
       "</table>\n",
       "</div>"
      ],
      "text/plain": [
       "     bctcb2010  beforeCount\n",
       "0  50009001000            8\n",
       "1  50020011000            2\n",
       "2  50027001000           48\n",
       "3  50040001000            2\n",
       "4  50064001000            2"
      ]
     },
     "execution_count": 61,
     "metadata": {},
     "output_type": "execute_result"
    }
   ],
   "source": [
    "before311CountBlock.head()"
   ]
  },
  {
   "cell_type": "code",
   "execution_count": 62,
   "metadata": {},
   "outputs": [
    {
     "data": {
      "text/html": [
       "<div>\n",
       "<table border=\"1\" class=\"dataframe\">\n",
       "  <thead>\n",
       "    <tr style=\"text-align: right;\">\n",
       "      <th></th>\n",
       "      <th>bctcb2010</th>\n",
       "      <th>afterCount</th>\n",
       "    </tr>\n",
       "  </thead>\n",
       "  <tbody>\n",
       "    <tr>\n",
       "      <th>0</th>\n",
       "      <td>50009001000</td>\n",
       "      <td>13</td>\n",
       "    </tr>\n",
       "    <tr>\n",
       "      <th>1</th>\n",
       "      <td>50020011000</td>\n",
       "      <td>0</td>\n",
       "    </tr>\n",
       "    <tr>\n",
       "      <th>2</th>\n",
       "      <td>50027001000</td>\n",
       "      <td>42</td>\n",
       "    </tr>\n",
       "    <tr>\n",
       "      <th>3</th>\n",
       "      <td>50040001000</td>\n",
       "      <td>3</td>\n",
       "    </tr>\n",
       "    <tr>\n",
       "      <th>4</th>\n",
       "      <td>50064001000</td>\n",
       "      <td>3</td>\n",
       "    </tr>\n",
       "  </tbody>\n",
       "</table>\n",
       "</div>"
      ],
      "text/plain": [
       "     bctcb2010  afterCount\n",
       "0  50009001000          13\n",
       "1  50020011000           0\n",
       "2  50027001000          42\n",
       "3  50040001000           3\n",
       "4  50064001000           3"
      ]
     },
     "execution_count": 62,
     "metadata": {},
     "output_type": "execute_result"
    }
   ],
   "source": [
    "after311CountBlock.head()"
   ]
  },
  {
   "cell_type": "code",
   "execution_count": 63,
   "metadata": {},
   "outputs": [
    {
     "data": {
      "text/html": [
       "<div>\n",
       "<table border=\"1\" class=\"dataframe\">\n",
       "  <thead>\n",
       "    <tr style=\"text-align: right;\">\n",
       "      <th></th>\n",
       "      <th>bctcb2010</th>\n",
       "      <th>beforeCount</th>\n",
       "    </tr>\n",
       "  </thead>\n",
       "  <tbody>\n",
       "    <tr>\n",
       "      <th>0</th>\n",
       "      <td>50009001000</td>\n",
       "      <td>0</td>\n",
       "    </tr>\n",
       "    <tr>\n",
       "      <th>1</th>\n",
       "      <td>50020011000</td>\n",
       "      <td>0</td>\n",
       "    </tr>\n",
       "    <tr>\n",
       "      <th>2</th>\n",
       "      <td>50027001000</td>\n",
       "      <td>1</td>\n",
       "    </tr>\n",
       "    <tr>\n",
       "      <th>3</th>\n",
       "      <td>50040001000</td>\n",
       "      <td>0</td>\n",
       "    </tr>\n",
       "    <tr>\n",
       "      <th>4</th>\n",
       "      <td>50064001000</td>\n",
       "      <td>0</td>\n",
       "    </tr>\n",
       "  </tbody>\n",
       "</table>\n",
       "</div>"
      ],
      "text/plain": [
       "     bctcb2010  beforeCount\n",
       "0  50009001000            0\n",
       "1  50020011000            0\n",
       "2  50027001000            1\n",
       "3  50040001000            0\n",
       "4  50064001000            0"
      ]
     },
     "execution_count": 63,
     "metadata": {},
     "output_type": "execute_result"
    }
   ],
   "source": [
    "sidewalkBefore311CountBlock.head()"
   ]
  },
  {
   "cell_type": "code",
   "execution_count": 64,
   "metadata": {},
   "outputs": [
    {
     "data": {
      "text/html": [
       "<div>\n",
       "<table border=\"1\" class=\"dataframe\">\n",
       "  <thead>\n",
       "    <tr style=\"text-align: right;\">\n",
       "      <th></th>\n",
       "      <th>bctcb2010</th>\n",
       "      <th>afterCount</th>\n",
       "    </tr>\n",
       "  </thead>\n",
       "  <tbody>\n",
       "    <tr>\n",
       "      <th>0</th>\n",
       "      <td>50009001000</td>\n",
       "      <td>0</td>\n",
       "    </tr>\n",
       "    <tr>\n",
       "      <th>1</th>\n",
       "      <td>50020011000</td>\n",
       "      <td>0</td>\n",
       "    </tr>\n",
       "    <tr>\n",
       "      <th>2</th>\n",
       "      <td>50027001000</td>\n",
       "      <td>7</td>\n",
       "    </tr>\n",
       "    <tr>\n",
       "      <th>3</th>\n",
       "      <td>50040001000</td>\n",
       "      <td>1</td>\n",
       "    </tr>\n",
       "    <tr>\n",
       "      <th>4</th>\n",
       "      <td>50064001000</td>\n",
       "      <td>0</td>\n",
       "    </tr>\n",
       "  </tbody>\n",
       "</table>\n",
       "</div>"
      ],
      "text/plain": [
       "     bctcb2010  afterCount\n",
       "0  50009001000           0\n",
       "1  50020011000           0\n",
       "2  50027001000           7\n",
       "3  50040001000           1\n",
       "4  50064001000           0"
      ]
     },
     "execution_count": 64,
     "metadata": {},
     "output_type": "execute_result"
    }
   ],
   "source": [
    "sidewalkAfter311CountBlock.head()"
   ]
  },
  {
   "cell_type": "markdown",
   "metadata": {},
   "source": [
    "## Overall changes analysis\n",
    "- WithKiosk and WithoutKiosk area\n",
    "- Hypothesis Testing\n",
    "- Conclusion"
   ]
  },
  {
   "cell_type": "markdown",
   "metadata": {},
   "source": [
    "Use after data for this analysis."
   ]
  },
  {
   "cell_type": "code",
   "execution_count": 65,
   "metadata": {},
   "outputs": [
    {
     "name": "stderr",
     "output_type": "stream",
     "text": [
      "/usr/local/Anaconda3-5.0.0-Linux-x86_64/envs/PUI2016_Python3/lib/python3.5/site-packages/ipykernel/__main__.py:2: SettingWithCopyWarning: \n",
      "A value is trying to be set on a copy of a slice from a DataFrame\n",
      "\n",
      "See the caveats in the documentation: http://pandas.pydata.org/pandas-docs/stable/indexing.html#indexing-view-versus-copy\n",
      "  from ipykernel import kernelapp as app\n"
     ]
    }
   ],
   "source": [
    "kioskCountBlock['Label'] = 'with'\n",
    "kioskCountBlock['Label'][kioskCountBlock['linknycCount'] == 0] = 'without'"
   ]
  },
  {
   "cell_type": "code",
   "execution_count": 66,
   "metadata": {},
   "outputs": [
    {
     "data": {
      "text/html": [
       "<div>\n",
       "<table border=\"1\" class=\"dataframe\">\n",
       "  <thead>\n",
       "    <tr style=\"text-align: right;\">\n",
       "      <th></th>\n",
       "      <th>bctcb2010</th>\n",
       "      <th>linknycCount</th>\n",
       "      <th>Label</th>\n",
       "    </tr>\n",
       "  </thead>\n",
       "  <tbody>\n",
       "    <tr>\n",
       "      <th>0</th>\n",
       "      <td>50009001000</td>\n",
       "      <td>0</td>\n",
       "      <td>without</td>\n",
       "    </tr>\n",
       "    <tr>\n",
       "      <th>1</th>\n",
       "      <td>50020011000</td>\n",
       "      <td>0</td>\n",
       "      <td>without</td>\n",
       "    </tr>\n",
       "    <tr>\n",
       "      <th>2</th>\n",
       "      <td>50027001000</td>\n",
       "      <td>0</td>\n",
       "      <td>without</td>\n",
       "    </tr>\n",
       "    <tr>\n",
       "      <th>3</th>\n",
       "      <td>50040001000</td>\n",
       "      <td>0</td>\n",
       "      <td>without</td>\n",
       "    </tr>\n",
       "    <tr>\n",
       "      <th>4</th>\n",
       "      <td>50064001000</td>\n",
       "      <td>0</td>\n",
       "      <td>without</td>\n",
       "    </tr>\n",
       "  </tbody>\n",
       "</table>\n",
       "</div>"
      ],
      "text/plain": [
       "     bctcb2010  linknycCount    Label\n",
       "0  50009001000             0  without\n",
       "1  50020011000             0  without\n",
       "2  50027001000             0  without\n",
       "3  50040001000             0  without\n",
       "4  50064001000             0  without"
      ]
     },
     "execution_count": 66,
     "metadata": {},
     "output_type": "execute_result"
    }
   ],
   "source": [
    "kioskCountBlock.head()"
   ]
  },
  {
   "cell_type": "code",
   "execution_count": 67,
   "metadata": {},
   "outputs": [],
   "source": [
    "linkWithComplaint = kioskCountBlock.merge(after311CountBlock).rename(columns = {'afterCount': '311Count'})"
   ]
  },
  {
   "cell_type": "code",
   "execution_count": 68,
   "metadata": {},
   "outputs": [
    {
     "data": {
      "text/html": [
       "<div>\n",
       "<table border=\"1\" class=\"dataframe\">\n",
       "  <thead>\n",
       "    <tr style=\"text-align: right;\">\n",
       "      <th></th>\n",
       "      <th>bctcb2010</th>\n",
       "      <th>linknycCount</th>\n",
       "      <th>Label</th>\n",
       "      <th>311Count</th>\n",
       "    </tr>\n",
       "  </thead>\n",
       "  <tbody>\n",
       "    <tr>\n",
       "      <th>0</th>\n",
       "      <td>50009001000</td>\n",
       "      <td>0</td>\n",
       "      <td>without</td>\n",
       "      <td>13</td>\n",
       "    </tr>\n",
       "    <tr>\n",
       "      <th>1</th>\n",
       "      <td>50020011000</td>\n",
       "      <td>0</td>\n",
       "      <td>without</td>\n",
       "      <td>0</td>\n",
       "    </tr>\n",
       "    <tr>\n",
       "      <th>2</th>\n",
       "      <td>50027001000</td>\n",
       "      <td>0</td>\n",
       "      <td>without</td>\n",
       "      <td>42</td>\n",
       "    </tr>\n",
       "    <tr>\n",
       "      <th>3</th>\n",
       "      <td>50040001000</td>\n",
       "      <td>0</td>\n",
       "      <td>without</td>\n",
       "      <td>3</td>\n",
       "    </tr>\n",
       "    <tr>\n",
       "      <th>4</th>\n",
       "      <td>50064001000</td>\n",
       "      <td>0</td>\n",
       "      <td>without</td>\n",
       "      <td>3</td>\n",
       "    </tr>\n",
       "  </tbody>\n",
       "</table>\n",
       "</div>"
      ],
      "text/plain": [
       "     bctcb2010  linknycCount    Label  311Count\n",
       "0  50009001000             0  without        13\n",
       "1  50020011000             0  without         0\n",
       "2  50027001000             0  without        42\n",
       "3  50040001000             0  without         3\n",
       "4  50064001000             0  without         3"
      ]
     },
     "execution_count": 68,
     "metadata": {},
     "output_type": "execute_result"
    }
   ],
   "source": [
    "linkWithComplaint.head()"
   ]
  },
  {
   "cell_type": "code",
   "execution_count": 69,
   "metadata": {},
   "outputs": [],
   "source": [
    "linkWithComplaintShape = censusBlock.merge(linkWithComplaint)"
   ]
  },
  {
   "cell_type": "code",
   "execution_count": 70,
   "metadata": {},
   "outputs": [
    {
     "data": {
      "text/plain": [
       "<matplotlib.axes._subplots.AxesSubplot at 0x7fd89c49f080>"
      ]
     },
     "execution_count": 70,
     "metadata": {},
     "output_type": "execute_result"
    },
    {
     "data": {
      "image/png": "[encoded data removed]",
      "text/plain": [
       "<matplotlib.figure.Figure at 0x7fd89c49fef0>"
      ]
     },
     "metadata": {},
     "output_type": "display_data"
    }
   ],
   "source": [
    "linkWithComplaintShape.plot('Label')"
   ]
  },
  {
   "cell_type": "markdown",
   "metadata": {},
   "source": [
    "**Null Hypothesis: There is no different of 311 total complaints counts between with kiosk and without kiosk area.**\n",
    "\n",
    "$$ H_0: \\mu_{withKiosk} = \\mu_{withoutKiosk} $$\n",
    "\n",
    "$$ H_1: \\mu_{withKiosk} \\neq \\mu_{withoutKiosk} $$\n",
    "\n",
    "$$ p = 0.05 $$"
   ]
  },
  {
   "cell_type": "code",
   "execution_count": 71,
   "metadata": {},
   "outputs": [],
   "source": [
    "def z_test(s1, s2):\n",
    "    u1 = np.mean(s1)\n",
    "    u2 = np.mean(s2)\n",
    "    v1 = np.var(s1)\n",
    "    v2 = np.var(s2)\n",
    "    n1 = len(s1)\n",
    "    n2 = len(s2)\n",
    "    \n",
    "    z_score = (u1 - u2)/np.sqrt(v1/n1 + v2/n2)\n",
    "    \n",
    "    return z_score"
   ]
  },
  {
   "cell_type": "code",
   "execution_count": 72,
   "metadata": {},
   "outputs": [],
   "source": [
    "withKiosk = linkWithComplaint['311Count'][linkWithComplaint['Label'] == 'with']\n",
    "withoutKiosk = linkWithComplaint['311Count'][linkWithComplaint['Label'] == 'without']"
   ]
  },
  {
   "cell_type": "code",
   "execution_count": 73,
   "metadata": {},
   "outputs": [
    {
     "data": {
      "text/plain": [
       "24.442638888675329"
      ]
     },
     "execution_count": 73,
     "metadata": {},
     "output_type": "execute_result"
    }
   ],
   "source": [
    "z_test(withKiosk, withoutKiosk)"
   ]
  },
  {
   "cell_type": "markdown",
   "metadata": {},
   "source": [
    "As z score is much higher than 1.96, we could reject $H_0$ and say that there is significant different of 311 total complaints counts between with kiosk and without kiosk area."
   ]
  },
  {
   "cell_type": "markdown",
   "metadata": {},
   "source": [
    "## Detail changes analysis (the total 311 complaint count)\n",
    "- 311 service request before and after LinkNYC built\n",
    "- Hypothesis Testing\n",
    "- Conclusion"
   ]
  },
  {
   "cell_type": "code",
   "execution_count": 77,
   "metadata": {},
   "outputs": [],
   "source": [
    "before311LinkCount = kioskCountBlock[kioskCountBlock['Label'] == 'with'].merge(before311CountBlock) \\\n",
    ".rename(columns = {'beforeCount': '311Count'}).reset_index(drop = True)"
   ]
  },
  {
   "cell_type": "code",
   "execution_count": 78,
   "metadata": {},
   "outputs": [
    {
     "data": {
      "text/html": [
       "<div>\n",
       "<table border=\"1\" class=\"dataframe\">\n",
       "  <thead>\n",
       "    <tr style=\"text-align: right;\">\n",
       "      <th></th>\n",
       "      <th>bctcb2010</th>\n",
       "      <th>linknycCount</th>\n",
       "      <th>Label</th>\n",
       "      <th>311Count</th>\n",
       "    </tr>\n",
       "  </thead>\n",
       "  <tbody>\n",
       "    <tr>\n",
       "      <th>0</th>\n",
       "      <td>50112021004</td>\n",
       "      <td>2</td>\n",
       "      <td>with</td>\n",
       "      <td>0</td>\n",
       "    </tr>\n",
       "    <tr>\n",
       "      <th>1</th>\n",
       "      <td>50122001005</td>\n",
       "      <td>1</td>\n",
       "      <td>with</td>\n",
       "      <td>7</td>\n",
       "    </tr>\n",
       "    <tr>\n",
       "      <th>2</th>\n",
       "      <td>50114021008</td>\n",
       "      <td>1</td>\n",
       "      <td>with</td>\n",
       "      <td>6</td>\n",
       "    </tr>\n",
       "    <tr>\n",
       "      <th>3</th>\n",
       "      <td>50114021011</td>\n",
       "      <td>1</td>\n",
       "      <td>with</td>\n",
       "      <td>4</td>\n",
       "    </tr>\n",
       "    <tr>\n",
       "      <th>4</th>\n",
       "      <td>50112021012</td>\n",
       "      <td>1</td>\n",
       "      <td>with</td>\n",
       "      <td>2</td>\n",
       "    </tr>\n",
       "  </tbody>\n",
       "</table>\n",
       "</div>"
      ],
      "text/plain": [
       "     bctcb2010  linknycCount Label  311Count\n",
       "0  50112021004             2  with         0\n",
       "1  50122001005             1  with         7\n",
       "2  50114021008             1  with         6\n",
       "3  50114021011             1  with         4\n",
       "4  50112021012             1  with         2"
      ]
     },
     "execution_count": 78,
     "metadata": {},
     "output_type": "execute_result"
    }
   ],
   "source": [
    "before311LinkCount.head()"
   ]
  },
  {
   "cell_type": "code",
   "execution_count": 79,
   "metadata": {},
   "outputs": [],
   "source": [
    "after311LinkCount = kioskCountBlock[kioskCountBlock['Label'] == 'with'].merge(after311CountBlock) \\\n",
    ".rename(columns = {'afterCount': '311Count'}).reset_index(drop = True)"
   ]
  },
  {
   "cell_type": "code",
   "execution_count": 80,
   "metadata": {},
   "outputs": [
    {
     "data": {
      "text/html": [
       "<div>\n",
       "<table border=\"1\" class=\"dataframe\">\n",
       "  <thead>\n",
       "    <tr style=\"text-align: right;\">\n",
       "      <th></th>\n",
       "      <th>bctcb2010</th>\n",
       "      <th>linknycCount</th>\n",
       "      <th>Label</th>\n",
       "      <th>311Count</th>\n",
       "    </tr>\n",
       "  </thead>\n",
       "  <tbody>\n",
       "    <tr>\n",
       "      <th>0</th>\n",
       "      <td>50112021004</td>\n",
       "      <td>2</td>\n",
       "      <td>with</td>\n",
       "      <td>1</td>\n",
       "    </tr>\n",
       "    <tr>\n",
       "      <th>1</th>\n",
       "      <td>50122001005</td>\n",
       "      <td>1</td>\n",
       "      <td>with</td>\n",
       "      <td>28</td>\n",
       "    </tr>\n",
       "    <tr>\n",
       "      <th>2</th>\n",
       "      <td>50114021008</td>\n",
       "      <td>1</td>\n",
       "      <td>with</td>\n",
       "      <td>4</td>\n",
       "    </tr>\n",
       "    <tr>\n",
       "      <th>3</th>\n",
       "      <td>50114021011</td>\n",
       "      <td>1</td>\n",
       "      <td>with</td>\n",
       "      <td>3</td>\n",
       "    </tr>\n",
       "    <tr>\n",
       "      <th>4</th>\n",
       "      <td>50112021012</td>\n",
       "      <td>1</td>\n",
       "      <td>with</td>\n",
       "      <td>9</td>\n",
       "    </tr>\n",
       "  </tbody>\n",
       "</table>\n",
       "</div>"
      ],
      "text/plain": [
       "     bctcb2010  linknycCount Label  311Count\n",
       "0  50112021004             2  with         1\n",
       "1  50122001005             1  with        28\n",
       "2  50114021008             1  with         4\n",
       "3  50114021011             1  with         3\n",
       "4  50112021012             1  with         9"
      ]
     },
     "execution_count": 80,
     "metadata": {},
     "output_type": "execute_result"
    }
   ],
   "source": [
    "after311LinkCount.head()"
   ]
  },
  {
   "cell_type": "code",
   "execution_count": 81,
   "metadata": {},
   "outputs": [],
   "source": [
    "before = before311LinkCount['311Count'] * totalRate # take the increase rate into account\n",
    "after = after311LinkCount['311Count'] "
   ]
  },
  {
   "cell_type": "markdown",
   "metadata": {},
   "source": [
    "**Null Hypothesis: There is no different of 311 total complaints counts before and after LinkNYC kiosk built.**\n",
    "\n",
    "$$ H_0: \\mu_{before} = \\mu_{after} $$\n",
    "\n",
    "$$ H_1: \\mu_{before} \\neq \\mu_{after} $$\n",
    "\n",
    "$$ p = 0.05 $$"
   ]
  },
  {
   "cell_type": "code",
   "execution_count": 82,
   "metadata": {},
   "outputs": [
    {
     "data": {
      "text/plain": [
       "2.5824652273226452"
      ]
     },
     "execution_count": 82,
     "metadata": {},
     "output_type": "execute_result"
    }
   ],
   "source": [
    "z_test(before, after)"
   ]
  },
  {
   "cell_type": "code",
   "execution_count": 85,
   "metadata": {},
   "outputs": [
    {
     "data": {
      "text/plain": [
       "(46253.480000000003, 41617)"
      ]
     },
     "execution_count": 85,
     "metadata": {},
     "output_type": "execute_result"
    }
   ],
   "source": [
    "sum(before), sum(after)"
   ]
  },
  {
   "cell_type": "markdown",
   "metadata": {},
   "source": [
    "As z score is higher than 1.96, we could reject $H_0$ and say that there is significant different of 311 total complaints counts before and after LinkNYC kiosk built."
   ]
  },
  {
   "cell_type": "markdown",
   "metadata": {},
   "source": [
    "## Detail changes analysis (the sidewalk noise 311 complaint count)\n",
    "- 311 service request about sidewalk noise before and after LinkNYC built\n",
    "- Hypothesis Testing\n",
    "- Conclusion"
   ]
  },
  {
   "cell_type": "markdown",
   "metadata": {},
   "source": [
    "**Null Hypothesis: There is no different of 311 sidewalk complaints counts before and after LinkNYC kiosk built.**\n",
    "\n",
    "$$ H_0: \\mu_{sidewalk\\_before} = \\mu_{sidewalk\\_after} $$\n",
    "\n",
    "$$ H_1: \\mu_{sidewalk\\_before} \\neq \\mu_{sidewalk\\_after} $$\n",
    "\n",
    "$$ p = 0.05 $$"
   ]
  },
  {
   "cell_type": "code",
   "execution_count": 86,
   "metadata": {},
   "outputs": [],
   "source": [
    "sidewalkBefore311LinkCount = kioskCountBlock[kioskCountBlock['Label'] == 'with'].merge(sidewalkBefore311CountBlock) \\\n",
    ".rename(columns = {'beforeCount': '311Count'}).reset_index(drop = True)"
   ]
  },
  {
   "cell_type": "code",
   "execution_count": 87,
   "metadata": {},
   "outputs": [],
   "source": [
    "sidewalkAfter311LinkCount = kioskCountBlock[kioskCountBlock['Label'] == 'with'].merge(sidewalkAfter311CountBlock) \\\n",
    ".rename(columns = {'afterCount': '311Count'}).reset_index(drop = True)"
   ]
  },
  {
   "cell_type": "code",
   "execution_count": 92,
   "metadata": {},
   "outputs": [],
   "source": [
    "sidewalkBeforeCount = sidewalkBefore311LinkCount['311Count']\n",
    "sidewalkAfterCount = sidewalkAfter311LinkCount['311Count']"
   ]
  },
  {
   "cell_type": "code",
   "execution_count": 93,
   "metadata": {},
   "outputs": [
    {
     "data": {
      "text/plain": [
       "-3.5345596707623161"
      ]
     },
     "execution_count": 93,
     "metadata": {},
     "output_type": "execute_result"
    }
   ],
   "source": [
    "z_test(sidewalkBeforeCount, sidewalkAfterCount)"
   ]
  },
  {
   "cell_type": "code",
   "execution_count": 94,
   "metadata": {},
   "outputs": [
    {
     "data": {
      "text/plain": [
       "(1823, 2834)"
      ]
     },
     "execution_count": 94,
     "metadata": {},
     "output_type": "execute_result"
    }
   ],
   "source": [
    "sum(sidewalkBeforeCount), sum(sidewalkAfterCount)"
   ]
  },
  {
   "cell_type": "markdown",
   "metadata": {},
   "source": [
    "As z score is higher than 1.96, we could reject $H_0$ and say that there is significant different of 311 sidewalk complaints counts before and after LinkNYC kiosk built."
   ]
  }
 ],
 "metadata": {
  "kernelspec": {
   "display_name": "bayesian",
   "language": "python",
   "name": "bayesian"
  },
  "language_info": {
   "codemirror_mode": {
    "name": "ipython",
    "version": 2
   },
   "file_extension": ".py",
   "mimetype": "text/x-python",
   "name": "python",
   "nbconvert_exporter": "python",
   "pygments_lexer": "ipython2",
   "version": "2.7.15"
  }
 },
 "nbformat": 4,
 "nbformat_minor": 2
}
